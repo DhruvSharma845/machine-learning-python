{
 "cells": [
  {
   "cell_type": "code",
   "execution_count": 1,
   "metadata": {
    "collapsed": true,
    "pycharm": {
     "is_executing": false
    }
   },
   "outputs": [
    {
     "name": "stdout",
     "text": [
      "Features shape: (1797, 64)\n\nLabels shape: (1797,)\n\n"
     ],
     "output_type": "stream"
    }
   ],
   "source": [
    "from sklearn.datasets import load_digits\n",
    "digits_features, digits_labels = load_digits(return_X_y=True)\n",
    "print(\"Features shape: {}\\n\".format(digits_features.shape))\n",
    "print(\"Labels shape: {}\\n\".format(digits_labels.shape))"
   ]
  },
  {
   "cell_type": "code",
   "execution_count": 2,
   "outputs": [],
   "source": [
    "import numpy as np\n",
    "mean_vals = np.mean(digits_features, axis=0)\n",
    "std_val = np.std(digits_features)\n",
    "\n",
    "digits_features_std = (digits_features - mean_vals)/std_val"
   ],
   "metadata": {
    "collapsed": false,
    "pycharm": {
     "name": "#%%\n",
     "is_executing": false
    }
   }
  },
  {
   "cell_type": "code",
   "execution_count": 3,
   "outputs": [],
   "source": [
    "import tensorflow as tf\n",
    "import tensorflow.keras as keras"
   ],
   "metadata": {
    "collapsed": false,
    "pycharm": {
     "name": "#%%\n",
     "is_executing": false
    }
   }
  },
  {
   "cell_type": "code",
   "execution_count": 4,
   "outputs": [
    {
     "name": "stdout",
     "text": [
      "Training features shape: (1437, 64)\n\nTraining labels shape: (1437,)\n\nTest features shape: (360, 64)\n\nTest labels shape: (360,)\n\n"
     ],
     "output_type": "stream"
    }
   ],
   "source": [
    "from sklearn.model_selection import train_test_split\n",
    "X_train, X_test, y_train, y_test = train_test_split(\n",
    "    digits_features_std, \n",
    "    digits_labels, \n",
    "    test_size=0.2, \n",
    "    random_state=1\n",
    ")\n",
    "print(\"Training features shape: {}\\n\".format(X_train.shape))\n",
    "print(\"Training labels shape: {}\\n\".format(y_train.shape))\n",
    "print(\"Test features shape: {}\\n\".format(X_test.shape))\n",
    "print(\"Test labels shape: {}\\n\".format(y_test.shape))"
   ],
   "metadata": {
    "collapsed": false,
    "pycharm": {
     "name": "#%%\n",
     "is_executing": false
    }
   }
  },
  {
   "cell_type": "code",
   "execution_count": 5,
   "outputs": [
    {
     "name": "stdout",
     "text": [
      "One-hot encoded labels shape: (1437, 10) - (360, 10)\n\n"
     ],
     "output_type": "stream"
    }
   ],
   "source": [
    "y_train_one_hot = keras.utils.to_categorical(y_train) \n",
    "y_test_one_hot = keras.utils.to_categorical(y_test) \n",
    "print(\"One-hot encoded labels shape: {} - {}\\n\".format(y_train_one_hot.shape, y_test_one_hot.shape))\n",
    "\n"
   ],
   "metadata": {
    "collapsed": false,
    "pycharm": {
     "name": "#%%\n",
     "is_executing": false
    }
   }
  },
  {
   "cell_type": "code",
   "execution_count": 8,
   "outputs": [
    {
     "name": "stdout",
     "text": [
      "WARNING:tensorflow:From c:\\users\\dhruv\\appdata\\local\\programs\\python\\python37\\lib\\site-packages\\tensorflow_core\\python\\compat\\v2_compat.py:65: disable_resource_variables (from tensorflow.python.ops.variable_scope) is deprecated and will be removed in a future version.\nInstructions for updating:\nnon-resource variables are not supported in the long term\n",
      "WARNING:tensorflow:From <ipython-input-8-61102899ec12>:13: dense (from tensorflow.python.layers.core) is deprecated and will be removed in a future version.\nInstructions for updating:\nUse keras.layers.Dense instead.\n",
      "WARNING:tensorflow:From c:\\users\\dhruv\\appdata\\local\\programs\\python\\python37\\lib\\site-packages\\tensorflow_core\\python\\layers\\core.py:187: Layer.apply (from tensorflow.python.keras.engine.base_layer) is deprecated and will be removed in a future version.\nInstructions for updating:\nPlease use `layer.__call__` method instead.\n"
     ],
     "output_type": "stream"
    }
   ],
   "source": [
    "import tensorflow.compat.v1 as tf\n",
    "tf.disable_v2_behavior()\n",
    "random_seed = 1\n",
    "\n",
    "g = tf.Graph()\n",
    "with g.as_default():\n",
    "    tf.set_random_seed(random_seed)\n",
    "    tf_x = tf.placeholder(dtype=tf.float32, shape=(None, X_train.shape[1]), \n",
    "                          name='tf_x')\n",
    "    tf_y = tf.placeholder(dtype = tf.int32, shape=None, name='tf_y')\n",
    "    y_one_hot = tf.one_hot(indices= tf_y, depth = 10)\n",
    "    \n",
    "    h1 = tf.layers.dense(inputs=tf_x, units=50, activation=tf.tanh, name='layer1')\n",
    "    h2 = tf.layers.dense(inputs=h1, units=50, activation=tf.tanh, name='layer2')\n",
    "    logits = tf.layers.dense(inputs=h2, units=10, activation=None, name='layer3')\n",
    "    predictions = {\n",
    "        'classes' : tf.argmax(logits, axis=1, name='predicted_classes'),\n",
    "        'probabilities' : tf.nn.softmax(logits, name='softmax_tensor')\n",
    "    }\n",
    "    \n",
    "    cost = tf.losses.softmax_cross_entropy(\n",
    "        onehot_labels=y_one_hot, logits=logits)\n",
    "    optimizer = tf.train.GradientDescentOptimizer(learning_rate=0.001)\n",
    "    train_op = optimizer.minimize(loss=cost)\n",
    "    init_op = tf.global_variables_initializer()\n",
    "    "
   ],
   "metadata": {
    "collapsed": false,
    "pycharm": {
     "name": "#%%\n",
     "is_executing": false
    }
   }
  },
  {
   "cell_type": "code",
   "execution_count": 9,
   "outputs": [],
   "source": [
    "def create_batch_generator(X, y, batch_size=128, shuffle=False):\n",
    "    X_copy = np.array(X)\n",
    "    y_copy = np.array(y)\n",
    "\n",
    "    for i in range(0, X.shape[0], batch_size):\n",
    "        yield (X_copy[i:i+batch_size, :], y_copy[i:i+batch_size])"
   ],
   "metadata": {
    "collapsed": false,
    "pycharm": {
     "name": "#%%\n",
     "is_executing": false
    }
   }
  },
  {
   "cell_type": "code",
   "execution_count": 10,
   "outputs": [
    {
     "name": "stdout",
     "text": [
      " -- Epoch  1 Avg. Training Loss: 2.3173\n -- Epoch  1 Avg. Training Loss: 2.3772\n -- Epoch  1 Avg. Training Loss: 2.3713\n -- Epoch  1 Avg. Training Loss: 2.3907\n -- Epoch  1 Avg. Training Loss: 2.4170\n -- Epoch  1 Avg. Training Loss: 2.4020\n -- Epoch  1 Avg. Training Loss: 2.3951\n -- Epoch  1 Avg. Training Loss: 2.4114\n -- Epoch  1 Avg. Training Loss: 2.4245\n -- Epoch  1 Avg. Training Loss: 2.4325\n -- Epoch  1 Avg. Training Loss: 2.4424\n -- Epoch  1 Avg. Training Loss: 2.4453\n -- Epoch  1 Avg. Training Loss: 2.4473\n -- Epoch  1 Avg. Training Loss: 2.4545\n -- Epoch  1 Avg. Training Loss: 2.4619\n -- Epoch  1 Avg. Training Loss: 2.4664\n -- Epoch  1 Avg. Training Loss: 2.4704\n -- Epoch  1 Avg. Training Loss: 2.4662\n -- Epoch  1 Avg. Training Loss: 2.4628\n -- Epoch  1 Avg. Training Loss: 2.4643\n -- Epoch  1 Avg. Training Loss: 2.4670\n -- Epoch  1 Avg. Training Loss: 2.4688\n -- Epoch  1 Avg. Training Loss: 2.4738\n -- Epoch  2 Avg. Training Loss: 2.2744\n -- Epoch  2 Avg. Training Loss: 2.3350\n -- Epoch  2 Avg. Training Loss: 2.3302\n -- Epoch  2 Avg. Training Loss: 2.3494\n -- Epoch  2 Avg. Training Loss: 2.3756\n -- Epoch  2 Avg. Training Loss: 2.3608\n -- Epoch  2 Avg. Training Loss: 2.3544\n -- Epoch  2 Avg. Training Loss: 2.3707\n -- Epoch  2 Avg. Training Loss: 2.3834\n -- Epoch  2 Avg. Training Loss: 2.3913\n -- Epoch  2 Avg. Training Loss: 2.4013\n -- Epoch  2 Avg. Training Loss: 2.4043\n -- Epoch  2 Avg. Training Loss: 2.4064\n -- Epoch  2 Avg. Training Loss: 2.4132\n -- Epoch  2 Avg. Training Loss: 2.4205\n -- Epoch  2 Avg. Training Loss: 2.4249\n -- Epoch  2 Avg. Training Loss: 2.4287\n -- Epoch  2 Avg. Training Loss: 2.4246\n -- Epoch  2 Avg. Training Loss: 2.4211\n -- Epoch  2 Avg. Training Loss: 2.4225\n -- Epoch  2 Avg. Training Loss: 2.4251\n -- Epoch  2 Avg. Training Loss: 2.4269\n -- Epoch  2 Avg. Training Loss: 2.4320\n -- Epoch  3 Avg. Training Loss: 2.2327\n -- Epoch  3 Avg. Training Loss: 2.2940\n -- Epoch  3 Avg. Training Loss: 2.2901\n -- Epoch  3 Avg. Training Loss: 2.3093\n -- Epoch  3 Avg. Training Loss: 2.3352\n -- Epoch  3 Avg. Training Loss: 2.3206\n -- Epoch  3 Avg. Training Loss: 2.3147\n -- Epoch  3 Avg. Training Loss: 2.3311\n -- Epoch  3 Avg. Training Loss: 2.3433\n -- Epoch  3 Avg. Training Loss: 2.3512\n -- Epoch  3 Avg. Training Loss: 2.3612\n -- Epoch  3 Avg. Training Loss: 2.3644\n -- Epoch  3 Avg. Training Loss: 2.3665\n -- Epoch  3 Avg. Training Loss: 2.3729\n -- Epoch  3 Avg. Training Loss: 2.3801\n -- Epoch  3 Avg. Training Loss: 2.3845\n -- Epoch  3 Avg. Training Loss: 2.3881\n -- Epoch  3 Avg. Training Loss: 2.3840\n -- Epoch  3 Avg. Training Loss: 2.3805\n -- Epoch  3 Avg. Training Loss: 2.3818\n -- Epoch  3 Avg. Training Loss: 2.3843\n -- Epoch  3 Avg. Training Loss: 2.3861\n -- Epoch  3 Avg. Training Loss: 2.3912\n -- Epoch  4 Avg. Training Loss: 2.1921\n -- Epoch  4 Avg. Training Loss: 2.2541\n -- Epoch  4 Avg. Training Loss: 2.2510\n -- Epoch  4 Avg. Training Loss: 2.2701\n -- Epoch  4 Avg. Training Loss: 2.2959\n -- Epoch  4 Avg. Training Loss: 2.2815\n -- Epoch  4 Avg. Training Loss: 2.2760\n -- Epoch  4 Avg. Training Loss: 2.2924\n -- Epoch  4 Avg. Training Loss: 2.3041\n -- Epoch  4 Avg. Training Loss: 2.3121\n -- Epoch  4 Avg. Training Loss: 2.3221\n -- Epoch  4 Avg. Training Loss: 2.3255\n -- Epoch  4 Avg. Training Loss: 2.3276\n -- Epoch  4 Avg. Training Loss: 2.3335\n -- Epoch  4 Avg. Training Loss: 2.3408\n -- Epoch  4 Avg. Training Loss: 2.3450\n -- Epoch  4 Avg. Training Loss: 2.3485\n -- Epoch  4 Avg. Training Loss: 2.3444\n -- Epoch  4 Avg. Training Loss: 2.3408\n -- Epoch  4 Avg. Training Loss: 2.3421\n -- Epoch  4 Avg. Training Loss: 2.3445\n -- Epoch  4 Avg. Training Loss: 2.3463\n -- Epoch  4 Avg. Training Loss: 2.3514\n -- Epoch  5 Avg. Training Loss: 2.1527\n -- Epoch  5 Avg. Training Loss: 2.2153\n -- Epoch  5 Avg. Training Loss: 2.2130\n -- Epoch  5 Avg. Training Loss: 2.2320\n -- Epoch  5 Avg. Training Loss: 2.2576\n -- Epoch  5 Avg. Training Loss: 2.2434\n -- Epoch  5 Avg. Training Loss: 2.2383\n -- Epoch  5 Avg. Training Loss: 2.2548\n -- Epoch  5 Avg. Training Loss: 2.2660\n -- Epoch  5 Avg. Training Loss: 2.2740\n -- Epoch  5 Avg. Training Loss: 2.2840\n -- Epoch  5 Avg. Training Loss: 2.2875\n -- Epoch  5 Avg. Training Loss: 2.2897\n -- Epoch  5 Avg. Training Loss: 2.2952\n -- Epoch  5 Avg. Training Loss: 2.3024\n -- Epoch  5 Avg. Training Loss: 2.3065\n -- Epoch  5 Avg. Training Loss: 2.3099\n -- Epoch  5 Avg. Training Loss: 2.3058\n -- Epoch  5 Avg. Training Loss: 2.3022\n -- Epoch  5 Avg. Training Loss: 2.3033\n -- Epoch  5 Avg. Training Loss: 2.3057\n -- Epoch  5 Avg. Training Loss: 2.3074\n -- Epoch  5 Avg. Training Loss: 2.3126\n -- Epoch  6 Avg. Training Loss: 2.1144\n -- Epoch  6 Avg. Training Loss: 2.1775\n -- Epoch  6 Avg. Training Loss: 2.1760",
      "\n -- Epoch  6 Avg. Training Loss: 2.1949\n -- Epoch  6 Avg. Training Loss: 2.2203\n -- Epoch  6 Avg. Training Loss: 2.2062\n -- Epoch  6 Avg. Training Loss: 2.2016\n -- Epoch  6 Avg. Training Loss: 2.2181\n -- Epoch  6 Avg. Training Loss: 2.2289\n -- Epoch  6 Avg. Training Loss: 2.2369\n -- Epoch  6 Avg. Training Loss: 2.2469\n -- Epoch  6 Avg. Training Loss: 2.2505\n -- Epoch  6 Avg. Training Loss: 2.2527\n -- Epoch  6 Avg. Training Loss: 2.2579\n -- Epoch  6 Avg. Training Loss: 2.2649\n -- Epoch  6 Avg. Training Loss: 2.2690\n -- Epoch  6 Avg. Training Loss: 2.2723\n -- Epoch  6 Avg. Training Loss: 2.2681\n -- Epoch  6 Avg. Training Loss: 2.2645\n -- Epoch  6 Avg. Training Loss: 2.2656\n -- Epoch  6 Avg. Training Loss: 2.2678\n -- Epoch  6 Avg. Training Loss: 2.2695\n -- Epoch  6 Avg. Training Loss: 2.2748\n -- Epoch  7 Avg. Training Loss: 2.0771\n -- Epoch  7 Avg. Training Loss: 2.1406\n -- Epoch  7 Avg. Training Loss: 2.1400\n -- Epoch  7 Avg. Training Loss: 2.1587\n -- Epoch  7 Avg. Training Loss: 2.1840\n -- Epoch  7 Avg. Training Loss: 2.1701\n -- Epoch  7 Avg. Training Loss: 2.1658\n -- Epoch  7 Avg. Training Loss: 2.1823\n -- Epoch  7 Avg. Training Loss: 2.1926\n -- Epoch  7 Avg. Training Loss: 2.2006\n -- Epoch  7 Avg. Training Loss: 2.2106\n -- Epoch  7 Avg. Training Loss: 2.2144\n -- Epoch  7 Avg. Training Loss: 2.2166\n -- Epoch  7 Avg. Training Loss: 2.2214\n -- Epoch  7 Avg. Training Loss: 2.2284\n -- Epoch  7 Avg. Training Loss: 2.2324\n -- Epoch  7 Avg. Training Loss: 2.2356\n -- Epoch  7 Avg. Training Loss: 2.2314\n -- Epoch  7 Avg. Training Loss: 2.2277\n -- Epoch  7 Avg. Training Loss: 2.2287\n -- Epoch  7 Avg. Training Loss: 2.2309\n -- Epoch  7 Avg. Training Loss: 2.2326\n -- Epoch  7 Avg. Training Loss: 2.2379\n -- Epoch  8 Avg. Training Loss: 2.0409\n -- Epoch  8 Avg. Training Loss: 2.1048\n -- Epoch  8 Avg. Training Loss: 2.1049\n -- Epoch  8 Avg. Training Loss: 2.1235\n -- Epoch  8 Avg. Training Loss: 2.1486\n -- Epoch  8 Avg. Training Loss: 2.1348\n -- Epoch  8 Avg. Training Loss: 2.1310\n -- Epoch  8 Avg. Training Loss: 2.1475\n -- Epoch  8 Avg. Training Loss: 2.1573\n -- Epoch  8 Avg. Training Loss: 2.1653\n -- Epoch  8 Avg. Training Loss: 2.1753\n -- Epoch  8 Avg. Training Loss: 2.1792\n -- Epoch  8 Avg. Training Loss: 2.1815\n -- Epoch  8 Avg. Training Loss: 2.1859\n -- Epoch  8 Avg. Training Loss: 2.1928\n -- Epoch  8 Avg. Training Loss: 2.1968\n -- Epoch  8 Avg. Training Loss: 2.1997\n -- Epoch  8 Avg. Training Loss: 2.1957\n -- Epoch  8 Avg. Training Loss: 2.1919\n -- Epoch  8 Avg. Training Loss: 2.1928\n -- Epoch  8 Avg. Training Loss: 2.1949\n -- Epoch  8 Avg. Training Loss: 2.1966\n -- Epoch  8 Avg. Training Loss: 2.2019\n -- Epoch  9 Avg. Training Loss: 2.0057\n -- Epoch  9 Avg. Training Loss: 2.0699\n -- Epoch  9 Avg. Training Loss: 2.0708\n -- Epoch  9 Avg. Training Loss: 2.0892\n -- Epoch  9 Avg. Training Loss: 2.1141\n -- Epoch  9 Avg. Training Loss: 2.1004\n -- Epoch  9 Avg. Training Loss: 2.0970\n -- Epoch  9 Avg. Training Loss: 2.1135\n -- Epoch  9 Avg. Training Loss: 2.1229\n -- Epoch  9 Avg. Training Loss: 2.1309\n -- Epoch  9 Avg. Training Loss: 2.1409\n -- Epoch  9 Avg. Training Loss: 2.1449\n -- Epoch  9 Avg. Training Loss: 2.1472\n -- Epoch  9 Avg. Training Loss: 2.1512\n -- Epoch  9 Avg. Training Loss: 2.1580\n -- Epoch  9 Avg. Training Loss: 2.1619\n -- Epoch  9 Avg. Training Loss: 2.1648\n -- Epoch  9 Avg. Training Loss: 2.1608\n -- Epoch  9 Avg. Training Loss: 2.1569\n -- Epoch  9 Avg. Training Loss: 2.1578\n -- Epoch  9 Avg. Training Loss: 2.1598\n -- Epoch  9 Avg. Training Loss: 2.1615\n -- Epoch  9 Avg. Training Loss: 2.1669\n -- Epoch 10 Avg. Training Loss: 1.9715\n -- Epoch 10 Avg. Training Loss: 2.0359\n -- Epoch 10 Avg. Training Loss: 2.0375\n -- Epoch 10 Avg. Training Loss: 2.0559\n -- Epoch 10 Avg. Training Loss: 2.0805\n -- Epoch 10 Avg. Training Loss: 2.0670\n -- Epoch 10 Avg. Training Loss: 2.0639\n -- Epoch 10 Avg. Training Loss: 2.0804\n -- Epoch 10 Avg. Training Loss: 2.0894\n -- Epoch 10 Avg. Training Loss: 2.0974\n -- Epoch 10 Avg. Training Loss: 2.1073\n -- Epoch 10 Avg. Training Loss: 2.1115\n -- Epoch 10 Avg. Training Loss: 2.1138\n -- Epoch 10 Avg. Training Loss: 2.1174\n -- Epoch 10 Avg. Training Loss: 2.1242\n -- Epoch 10 Avg. Training Loss: 2.1280\n -- Epoch 10 Avg. Training Loss: 2.1308\n -- Epoch 10 Avg. Training Loss: 2.1268\n -- Epoch 10 Avg. Training Loss: 2.1229\n -- Epoch 10 Avg. Training Loss: 2.1237\n -- Epoch 10 Avg. Training Loss: 2.1255\n -- Epoch 10 Avg. Training Loss: 2.1272\n -- Epoch 10 Avg. Training Loss: 2.1326\n -- Epoch 11 Avg. Training Loss: 1.9383\n -- Epoch 11 Avg. Training Loss: 2.0029\n -- Epoch 11 Avg. Training Loss: 2.0052\n -- Epoch 11 Avg. Training Loss: 2.0233\n -- Epoch 11 Avg. Training Loss: 2.0478\n -- Epoch 11 Avg. Training Loss: 2.0344\n -- Epoch 11 Avg. Training Loss: 2.0317\n -- Epoch 11 Avg. Training Loss: 2.0482\n -- Epoch 11 Avg. Training Loss: 2.0567\n -- Epoch 11 Avg. Training Loss: 2.0647\n -- Epoch 11 Avg. Training Loss: 2.0746",
      "\n -- Epoch 11 Avg. Training Loss: 2.0789\n -- Epoch 11 Avg. Training Loss: 2.0812\n -- Epoch 11 Avg. Training Loss: 2.0845\n -- Epoch 11 Avg. Training Loss: 2.0911\n -- Epoch 11 Avg. Training Loss: 2.0949\n -- Epoch 11 Avg. Training Loss: 2.0976\n -- Epoch 11 Avg. Training Loss: 2.0936\n -- Epoch 11 Avg. Training Loss: 2.0897\n -- Epoch 11 Avg. Training Loss: 2.0904\n -- Epoch 11 Avg. Training Loss: 2.0921\n -- Epoch 11 Avg. Training Loss: 2.0938\n -- Epoch 11 Avg. Training Loss: 2.0993\n -- Epoch 12 Avg. Training Loss: 1.9059\n -- Epoch 12 Avg. Training Loss: 1.9707\n -- Epoch 12 Avg. Training Loss: 1.9737\n -- Epoch 12 Avg. Training Loss: 1.9917\n -- Epoch 12 Avg. Training Loss: 2.0159\n -- Epoch 12 Avg. Training Loss: 2.0026\n -- Epoch 12 Avg. Training Loss: 2.0003\n -- Epoch 12 Avg. Training Loss: 2.0167\n -- Epoch 12 Avg. Training Loss: 2.0249\n -- Epoch 12 Avg. Training Loss: 2.0328\n -- Epoch 12 Avg. Training Loss: 2.0426\n -- Epoch 12 Avg. Training Loss: 2.0471\n -- Epoch 12 Avg. Training Loss: 2.0494\n -- Epoch 12 Avg. Training Loss: 2.0524\n -- Epoch 12 Avg. Training Loss: 2.0589\n -- Epoch 12 Avg. Training Loss: 2.0626\n -- Epoch 12 Avg. Training Loss: 2.0652\n -- Epoch 12 Avg. Training Loss: 2.0613\n -- Epoch 12 Avg. Training Loss: 2.0573\n -- Epoch 12 Avg. Training Loss: 2.0580\n -- Epoch 12 Avg. Training Loss: 2.0596\n -- Epoch 12 Avg. Training Loss: 2.0613\n -- Epoch 12 Avg. Training Loss: 2.0667\n -- Epoch 13 Avg. Training Loss: 1.8745\n -- Epoch 13 Avg. Training Loss: 1.9393\n -- Epoch 13 Avg. Training Loss: 1.9430\n -- Epoch 13 Avg. Training Loss: 1.9609\n -- Epoch 13 Avg. Training Loss: 1.9849\n -- Epoch 13 Avg. Training Loss: 1.9716\n -- Epoch 13 Avg. Training Loss: 1.9697\n -- Epoch 13 Avg. Training Loss: 1.9861\n -- Epoch 13 Avg. Training Loss: 1.9938\n -- Epoch 13 Avg. Training Loss: 2.0017\n -- Epoch 13 Avg. Training Loss: 2.0115\n -- Epoch 13 Avg. Training Loss: 2.0161\n -- Epoch 13 Avg. Training Loss: 2.0184\n",
      " -- Epoch 13 Avg. Training Loss: 2.0210\n -- Epoch 13 Avg. Training Loss: 2.0275\n -- Epoch 13 Avg. Training Loss: 2.0312\n -- Epoch 13 Avg. Training Loss: 2.0336\n -- Epoch 13 Avg. Training Loss: 2.0297\n -- Epoch 13 Avg. Training Loss: 2.0257\n -- Epoch 13 Avg. Training Loss: 2.0263\n -- Epoch 13 Avg. Training Loss: 2.0279\n -- Epoch 13 Avg. Training Loss: 2.0295\n -- Epoch 13 Avg. Training Loss: 2.0350\n -- Epoch 14 Avg. Training Loss: 1.8440\n -- Epoch 14 Avg. Training Loss: 1.9088\n -- Epoch 14 Avg. Training Loss: 1.9131\n -- Epoch 14 Avg. Training Loss: 1.9308\n -- Epoch 14 Avg. Training Loss: 1.9546\n -- Epoch 14 Avg. Training Loss: 1.9415\n -- Epoch 14 Avg. Training Loss: 1.9398\n -- Epoch 14 Avg. Training Loss: 1.9562\n -- Epoch 14 Avg. Training Loss: 1.9635\n -- Epoch 14 Avg. Training Loss: 1.9714\n -- Epoch 14 Avg. Training Loss: 1.9812\n -- Epoch 14 Avg. Training Loss: 1.9858\n -- Epoch 14 Avg. Training Loss: 1.9881\n -- Epoch 14 Avg. Training Loss: 1.9905\n -- Epoch 14 Avg. Training Loss: 1.9968\n -- Epoch 14 Avg. Training Loss: 2.0004\n -- Epoch 14 Avg. Training Loss: 2.0028\n -- Epoch 14 Avg. Training Loss: 1.9990\n -- Epoch 14 Avg. Training Loss: 1.9949\n -- Epoch 14 Avg. Training Loss: 1.9955\n -- Epoch 14 Avg. Training Loss: 1.9969\n -- Epoch 14 Avg. Training Loss: 1.9985\n -- Epoch 14 Avg. Training Loss: 2.0040\n -- Epoch 15 Avg. Training Loss: 1.8143\n -- Epoch 15 Avg. Training Loss: 1.8791\n -- Epoch 15 Avg. Training Loss: 1.8841\n -- Epoch 15 Avg. Training Loss: 1.9016\n -- Epoch 15 Avg. Training Loss: 1.9251\n -- Epoch 15 Avg. Training Loss: 1.9121\n -- Epoch 15 Avg. Training Loss: 1.9108\n -- Epoch 15 Avg. Training Loss: 1.9271\n -- Epoch 15 Avg. Training Loss: 1.9340\n -- Epoch 15 Avg. Training Loss: 1.9419\n -- Epoch 15 Avg. Training Loss: 1.9516\n -- Epoch 15 Avg. Training Loss: 1.9563\n -- Epoch 15 Avg. Training Loss: 1.9587\n -- Epoch 15 Avg. Training Loss: 1.9607\n -- Epoch 15 Avg. Training Loss: 1.9670\n -- Epoch 15 Avg. Training Loss: 1.9705\n -- Epoch 15 Avg. Training Loss: 1.9727\n -- Epoch 15 Avg. Training Loss: 1.9690\n -- Epoch 15 Avg. Training Loss: 1.9649\n -- Epoch 15 Avg. Training Loss: 1.9654\n -- Epoch 15 Avg. Training Loss: 1.9667\n -- Epoch 15 Avg. Training Loss: 1.9683\n -- Epoch 15 Avg. Training Loss: 1.9738\n -- Epoch 16 Avg. Training Loss: 1.7854\n -- Epoch 16 Avg. Training Loss: 1.8502\n -- Epoch 16 Avg. Training Loss: 1.8558\n -- Epoch 16 Avg. Training Loss: 1.8731\n -- Epoch 16 Avg. Training Loss: 1.8964\n -- Epoch 16 Avg. Training Loss: 1.8834\n -- Epoch 16 Avg. Training Loss: 1.8825\n -- Epoch 16 Avg. Training Loss: 1.8988\n -- Epoch 16 Avg. Training Loss: 1.9052\n -- Epoch 16 Avg. Training Loss: 1.9131\n -- Epoch 16 Avg. Training Loss: 1.9227\n -- Epoch 16 Avg. Training Loss: 1.9276\n -- Epoch 16 Avg. Training Loss: 1.9299\n -- Epoch 16 Avg. Training Loss: 1.9316\n -- Epoch 16 Avg. Training Loss: 1.9378\n -- Epoch 16 Avg. Training Loss: 1.9413\n -- Epoch 16 Avg. Training Loss: 1.9434\n -- Epoch 16 Avg. Training Loss: 1.9398\n -- Epoch 16 Avg. Training Loss: 1.9356\n -- Epoch 16 Avg. Training Loss: 1.9361\n -- Epoch 16 Avg. Training Loss: 1.9373\n -- Epoch 16 Avg. Training Loss: 1.9389\n -- Epoch 16 Avg. Training Loss: 1.9444\n -- Epoch 17 Avg. Training Loss: 1.7573\n -- Epoch 17 Avg. Training Loss: 1.8220\n -- Epoch 17 Avg. Training Loss: 1.8282\n -- Epoch 17 Avg. Training Loss: 1.8454\n -- Epoch 17 Avg. Training Loss: 1.8684\n -- Epoch 17 Avg. Training Loss: 1.8555\n -- Epoch 17 Avg. Training Loss: 1.8548\n -- Epoch 17 Avg. Training Loss: 1.8711\n -- Epoch 17 Avg. Training Loss: 1.8772\n -- Epoch 17 Avg. Training Loss: 1.8850\n -- Epoch 17 Avg. Training Loss: 1.8946\n -- Epoch 17 Avg. Training Loss: 1.8995\n -- Epoch 17 Avg. Training Loss: 1.9018\n -- Epoch 17 Avg. Training Loss: 1.9033\n -- Epoch 17 Avg. Training Loss: 1.9094\n -- Epoch 17 Avg. Training Loss: 1.9128\n -- Epoch 17 Avg. Training Loss: 1.9149\n -- Epoch 17 Avg. Training Loss: 1.9112\n -- Epoch 17 Avg. Training Loss: 1.9071\n -- Epoch 17 Avg. Training Loss: 1.9074\n -- Epoch 17 Avg. Training Loss: 1.9086\n -- Epoch 17 Avg. Training Loss: 1.9102\n -- Epoch 17 Avg. Training Loss: 1.9157\n -- Epoch 18 Avg. Training Loss: 1.7300\n -- Epoch 18 Avg. Training Loss: 1.7946\n -- Epoch 18 Avg. Training Loss: 1.8013",
      "\n -- Epoch 18 Avg. Training Loss: 1.8183\n -- Epoch 18 Avg. Training Loss: 1.8411\n -- Epoch 18 Avg. Training Loss: 1.8283\n -- Epoch 18 Avg. Training Loss: 1.8279\n -- Epoch 18 Avg. Training Loss: 1.8441\n -- Epoch 18 Avg. Training Loss: 1.8498\n -- Epoch 18 Avg. Training Loss: 1.8576\n -- Epoch 18 Avg. Training Loss: 1.8671\n -- Epoch 18 Avg. Training Loss: 1.8722\n -- Epoch 18 Avg. Training Loss: 1.8745\n -- Epoch 18 Avg. Training Loss: 1.8756\n -- Epoch 18 Avg. Training Loss: 1.8816\n -- Epoch 18 Avg. Training Loss: 1.8850\n -- Epoch 18 Avg. Training Loss: 1.8870\n -- Epoch 18 Avg. Training Loss: 1.8834\n -- Epoch 18 Avg. Training Loss: 1.8793\n -- Epoch 18 Avg. Training Loss: 1.8795\n -- Epoch 18 Avg. Training Loss: 1.8806\n -- Epoch 18 Avg. Training Loss: 1.8822\n -- Epoch 18 Avg. Training Loss: 1.8877\n -- Epoch 19 Avg. Training Loss: 1.7035\n -- Epoch 19 Avg. Training Loss: 1.7679\n -- Epoch 19 Avg. Training Loss: 1.7752\n -- Epoch 19 Avg. Training Loss: 1.7920\n -- Epoch 19 Avg. Training Loss: 1.8145\n -- Epoch 19 Avg. Training Loss: 1.8018\n -- Epoch 19 Avg. Training Loss: 1.8017\n -- Epoch 19 Avg. Training Loss: 1.8179\n -- Epoch 19 Avg. Training Loss: 1.8231\n -- Epoch 19 Avg. Training Loss: 1.8309\n -- Epoch 19 Avg. Training Loss: 1.8403\n -- Epoch 19 Avg. Training Loss: 1.8455\n -- Epoch 19 Avg. Training Loss: 1.8478\n -- Epoch 19 Avg. Training Loss: 1.8487\n -- Epoch 19 Avg. Training Loss: 1.8545\n -- Epoch 19 Avg. Training Loss: 1.8579\n -- Epoch 19 Avg. Training Loss: 1.8598\n -- Epoch 19 Avg. Training Loss: 1.8563\n -- Epoch 19 Avg. Training Loss: 1.8521\n -- Epoch 19 Avg. Training Loss: 1.8523\n -- Epoch 19 Avg. Training Loss: 1.8533\n -- Epoch 19 Avg. Training Loss: 1.8548\n -- Epoch 19 Avg. Training Loss: 1.8603\n -- Epoch 20 Avg. Training Loss: 1.6777\n -- Epoch 20 Avg. Training Loss: 1.7419\n -- Epoch 20 Avg. Training Loss: 1.7497\n -- Epoch 20 Avg. Training Loss: 1.7663\n -- Epoch 20 Avg. Training Loss: 1.7886\n -- Epoch 20 Avg. Training Loss: 1.7760\n -- Epoch 20 Avg. Training Loss: 1.7761\n -- Epoch 20 Avg. Training Loss: 1.7922\n -- Epoch 20 Avg. Training Loss: 1.7971\n -- Epoch 20 Avg. Training Loss: 1.8048\n -- Epoch 20 Avg. Training Loss: 1.8142\n -- Epoch 20 Avg. Training Loss: 1.8194\n -- Epoch 20 Avg. Training Loss: 1.8217\n -- Epoch 20 Avg. Training Loss: 1.8224\n -- Epoch 20 Avg. Training Loss: 1.8281\n -- Epoch 20 Avg. Training Loss: 1.8314\n -- Epoch 20 Avg. Training Loss: 1.8332\n -- Epoch 20 Avg. Training Loss: 1.8298\n -- Epoch 20 Avg. Training Loss: 1.8256\n -- Epoch 20 Avg. Training Loss: 1.8258\n -- Epoch 20 Avg. Training Loss: 1.8266\n -- Epoch 20 Avg. Training Loss: 1.8282\n -- Epoch 20 Avg. Training Loss: 1.8337\n -- Epoch 21 Avg. Training Loss: 1.6525\n -- Epoch 21 Avg. Training Loss: 1.7166\n -- Epoch 21 Avg. Training Loss: 1.7249\n -- Epoch 21 Avg. Training Loss: 1.7413\n -- Epoch 21 Avg. Training Loss: 1.7634\n -- Epoch 21 Avg. Training Loss: 1.7508\n -- Epoch 21 Avg. Training Loss: 1.7512\n -- Epoch 21 Avg. Training Loss: 1.7672\n -- Epoch 21 Avg. Training Loss: 1.7718\n -- Epoch 21 Avg. Training Loss: 1.7794\n -- Epoch 21 Avg. Training Loss: 1.7887\n -- Epoch 21 Avg. Training Loss: 1.7940\n",
      " -- Epoch 21 Avg. Training Loss: 1.7963\n -- Epoch 21 Avg. Training Loss: 1.7967\n -- Epoch 21 Avg. Training Loss: 1.8024\n -- Epoch 21 Avg. Training Loss: 1.8056\n -- Epoch 21 Avg. Training Loss: 1.8073\n -- Epoch 21 Avg. Training Loss: 1.8040\n -- Epoch 21 Avg. Training Loss: 1.7998\n -- Epoch 21 Avg. Training Loss: 1.7999\n -- Epoch 21 Avg. Training Loss: 1.8007\n -- Epoch 21 Avg. Training Loss: 1.8022\n -- Epoch 21 Avg. Training Loss: 1.8076\n -- Epoch 22 Avg. Training Loss: 1.6281\n -- Epoch 22 Avg. Training Loss: 1.6919\n -- Epoch 22 Avg. Training Loss: 1.7008\n -- Epoch 22 Avg. Training Loss: 1.7169\n -- Epoch 22 Avg. Training Loss: 1.7388\n -- Epoch 22 Avg. Training Loss: 1.7262\n -- Epoch 22 Avg. Training Loss: 1.7269\n -- Epoch 22 Avg. Training Loss: 1.7428\n -- Epoch 22 Avg. Training Loss: 1.7470\n -- Epoch 22 Avg. Training Loss: 1.7547\n -- Epoch 22 Avg. Training Loss: 1.7639\n -- Epoch 22 Avg. Training Loss: 1.7693\n -- Epoch 22 Avg. Training Loss: 1.7715\n -- Epoch 22 Avg. Training Loss: 1.7716\n -- Epoch 22 Avg. Training Loss: 1.7772\n -- Epoch 22 Avg. Training Loss: 1.7804\n -- Epoch 22 Avg. Training Loss: 1.7821\n -- Epoch 22 Avg. Training Loss: 1.7789\n -- Epoch 22 Avg. Training Loss: 1.7746\n -- Epoch 22 Avg. Training Loss: 1.7746\n -- Epoch 22 Avg. Training Loss: 1.7753\n -- Epoch 22 Avg. Training Loss: 1.7768\n -- Epoch 22 Avg. Training Loss: 1.7823\n -- Epoch 23 Avg. Training Loss: 1.6043\n -- Epoch 23 Avg. Training Loss: 1.6679\n -- Epoch 23 Avg. Training Loss: 1.6772\n -- Epoch 23 Avg. Training Loss: 1.6932\n -- Epoch 23 Avg. Training Loss: 1.7147\n -- Epoch 23 Avg. Training Loss: 1.7023\n -- Epoch 23 Avg. Training Loss: 1.7032\n -- Epoch 23 Avg. Training Loss: 1.7191\n -- Epoch 23 Avg. Training Loss: 1.7229\n -- Epoch 23 Avg. Training Loss: 1.7305\n -- Epoch 23 Avg. Training Loss: 1.7396\n -- Epoch 23 Avg. Training Loss: 1.7451\n -- Epoch 23 Avg. Training Loss: 1.7473\n -- Epoch 23 Avg. Training Loss: 1.7472\n -- Epoch 23 Avg. Training Loss: 1.7527\n -- Epoch 23 Avg. Training Loss: 1.7558\n -- Epoch 23 Avg. Training Loss: 1.7574\n -- Epoch 23 Avg. Training Loss: 1.7543\n -- Epoch 23 Avg. Training Loss: 1.7500\n -- Epoch 23 Avg. Training Loss: 1.7500\n -- Epoch 23 Avg. Training Loss: 1.7506\n -- Epoch 23 Avg. Training Loss: 1.7521\n -- Epoch 23 Avg. Training Loss: 1.7575\n -- Epoch 24 Avg. Training Loss: 1.5812\n -- Epoch 24 Avg. Training Loss: 1.6445\n -- Epoch 24 Avg. Training Loss: 1.6543\n -- Epoch 24 Avg. Training Loss: 1.6700\n -- Epoch 24 Avg. Training Loss: 1.6913\n -- Epoch 24 Avg. Training Loss: 1.6789\n -- Epoch 24 Avg. Training Loss: 1.6801\n -- Epoch 24 Avg. Training Loss: 1.6959\n -- Epoch 24 Avg. Training Loss: 1.6993\n -- Epoch 24 Avg. Training Loss: 1.7069\n -- Epoch 24 Avg. Training Loss: 1.7160\n -- Epoch 24 Avg. Training Loss: 1.7215\n -- Epoch 24 Avg. Training Loss: 1.7237\n -- Epoch 24 Avg. Training Loss: 1.7233\n -- Epoch 24 Avg. Training Loss: 1.7287\n -- Epoch 24 Avg. Training Loss: 1.7318\n -- Epoch 24 Avg. Training Loss: 1.7334\n -- Epoch 24 Avg. Training Loss: 1.7303\n -- Epoch 24 Avg. Training Loss: 1.7261\n -- Epoch 24 Avg. Training Loss: 1.7260\n -- Epoch 24 Avg. Training Loss: 1.7265\n -- Epoch 24 Avg. Training Loss: 1.7279\n -- Epoch 24 Avg. Training Loss: 1.7333\n -- Epoch 25 Avg. Training Loss: 1.5587\n -- Epoch 25 Avg. Training Loss: 1.6216\n -- Epoch 25 Avg. Training Loss: 1.6319\n -- Epoch 25 Avg. Training Loss: 1.6475\n -- Epoch 25 Avg. Training Loss: 1.6685\n -- Epoch 25 Avg. Training Loss: 1.6561\n -- Epoch 25 Avg. Training Loss: 1.6575\n -- Epoch 25 Avg. Training Loss: 1.6732\n -- Epoch 25 Avg. Training Loss: 1.6764\n -- Epoch 25 Avg. Training Loss: 1.6839\n -- Epoch 25 Avg. Training Loss: 1.6929\n -- Epoch 25 Avg. Training Loss: 1.6984\n -- Epoch 25 Avg. Training Loss: 1.7006\n -- Epoch 25 Avg. Training Loss: 1.7001\n -- Epoch 25 Avg. Training Loss: 1.7053\n -- Epoch 25 Avg. Training Loss: 1.7084\n -- Epoch 25 Avg. Training Loss: 1.7099\n -- Epoch 25 Avg. Training Loss: 1.7069\n -- Epoch 25 Avg. Training Loss: 1.7026\n",
      " -- Epoch 25 Avg. Training Loss: 1.7025\n -- Epoch 25 Avg. Training Loss: 1.7029\n -- Epoch 25 Avg. Training Loss: 1.7043\n -- Epoch 25 Avg. Training Loss: 1.7097\n -- Epoch 26 Avg. Training Loss: 1.5368\n -- Epoch 26 Avg. Training Loss: 1.5994\n -- Epoch 26 Avg. Training Loss: 1.6101\n -- Epoch 26 Avg. Training Loss: 1.6254\n -- Epoch 26 Avg. Training Loss: 1.6462\n -- Epoch 26 Avg. Training Loss: 1.6339\n -- Epoch 26 Avg. Training Loss: 1.6355\n -- Epoch 26 Avg. Training Loss: 1.6511\n -- Epoch 26 Avg. Training Loss: 1.6540\n -- Epoch 26 Avg. Training Loss: 1.6614\n -- Epoch 26 Avg. Training Loss: 1.6703\n -- Epoch 26 Avg. Training Loss: 1.6759\n -- Epoch 26 Avg. Training Loss: 1.6781\n -- Epoch 26 Avg. Training Loss: 1.6773\n -- Epoch 26 Avg. Training Loss: 1.6825\n -- Epoch 26 Avg. Training Loss: 1.6855\n -- Epoch 26 Avg. Training Loss: 1.6869\n -- Epoch 26 Avg. Training Loss: 1.6841\n -- Epoch 26 Avg. Training Loss: 1.6798\n -- Epoch 26 Avg. Training Loss: 1.6796\n -- Epoch 26 Avg. Training Loss: 1.6799\n -- Epoch 26 Avg. Training Loss: 1.6813\n -- Epoch 26 Avg. Training Loss: 1.6867\n -- Epoch 27 Avg. Training Loss: 1.5155\n -- Epoch 27 Avg. Training Loss: 1.5777\n -- Epoch 27 Avg. Training Loss: 1.5888\n -- Epoch 27 Avg. Training Loss: 1.6040\n -- Epoch 27 Avg. Training Loss: 1.6245\n -- Epoch 27 Avg. Training Loss: 1.6123\n -- Epoch 27 Avg. Training Loss: 1.6141\n -- Epoch 27 Avg. Training Loss: 1.6296\n -- Epoch 27 Avg. Training Loss: 1.6321\n -- Epoch 27 Avg. Training Loss: 1.6395\n -- Epoch 27 Avg. Training Loss: 1.6483\n -- Epoch 27 Avg. Training Loss: 1.6540\n -- Epoch 27 Avg. Training Loss: 1.6562\n -- Epoch 27 Avg. Training Loss: 1.6551\n -- Epoch 27 Avg. Training Loss: 1.6602\n -- Epoch 27 Avg. Training Loss: 1.6632\n -- Epoch 27 Avg. Training Loss: 1.6645\n -- Epoch 27 Avg. Training Loss: 1.6618\n -- Epoch 27 Avg. Training Loss: 1.6575\n -- Epoch 27 Avg. Training Loss: 1.6572\n -- Epoch 27 Avg. Training Loss: 1.6575\n -- Epoch 27 Avg. Training Loss: 1.6589\n -- Epoch 27 Avg. Training Loss: 1.6642\n -- Epoch 28 Avg. Training Loss: 1.4947\n -- Epoch 28 Avg. Training Loss: 1.5566\n -- Epoch 28 Avg. Training Loss: 1.5681\n -- Epoch 28 Avg. Training Loss: 1.5830\n -- Epoch 28 Avg. Training Loss: 1.6033\n -- Epoch 28 Avg. Training Loss: 1.5911\n -- Epoch 28 Avg. Training Loss: 1.5932\n -- Epoch 28 Avg. Training Loss: 1.6086\n -- Epoch 28 Avg. Training Loss: 1.6107\n -- Epoch 28 Avg. Training Loss: 1.6181\n -- Epoch 28 Avg. Training Loss: 1.6268\n -- Epoch 28 Avg. Training Loss: 1.6326\n -- Epoch 28 Avg. Training Loss: 1.6347\n -- Epoch 28 Avg. Training Loss: 1.6335\n -- Epoch 28 Avg. Training Loss: 1.6384\n -- Epoch 28 Avg. Training Loss: 1.6414\n -- Epoch 28 Avg. Training Loss: 1.6427\n -- Epoch 28 Avg. Training Loss: 1.6400\n -- Epoch 28 Avg. Training Loss: 1.6357\n -- Epoch 28 Avg. Training Loss: 1.6354\n -- Epoch 28 Avg. Training Loss: 1.6356",
      "\n -- Epoch 28 Avg. Training Loss: 1.6370\n -- Epoch 28 Avg. Training Loss: 1.6423\n -- Epoch 29 Avg. Training Loss: 1.4745\n -- Epoch 29 Avg. Training Loss: 1.5360\n -- Epoch 29 Avg. Training Loss: 1.5479\n -- Epoch 29 Avg. Training Loss: 1.5626\n -- Epoch 29 Avg. Training Loss: 1.5826\n -- Epoch 29 Avg. Training Loss: 1.5705\n -- Epoch 29 Avg. Training Loss: 1.5727\n -- Epoch 29 Avg. Training Loss: 1.5880\n -- Epoch 29 Avg. Training Loss: 1.5899\n -- Epoch 29 Avg. Training Loss: 1.5972\n -- Epoch 29 Avg. Training Loss: 1.6059\n -- Epoch 29 Avg. Training Loss: 1.6116\n -- Epoch 29 Avg. Training Loss: 1.6137\n -- Epoch 29 Avg. Training Loss: 1.6123\n -- Epoch 29 Avg. Training Loss: 1.6171\n -- Epoch 29 Avg. Training Loss: 1.6201\n -- Epoch 29 Avg. Training Loss: 1.6213\n -- Epoch 29 Avg. Training Loss: 1.6188\n -- Epoch 29 Avg. Training Loss: 1.6145\n -- Epoch 29 Avg. Training Loss: 1.6141\n -- Epoch 29 Avg. Training Loss: 1.6142\n -- Epoch 29 Avg. Training Loss: 1.6156\n -- Epoch 29 Avg. Training Loss: 1.6208\n -- Epoch 30 Avg. Training Loss: 1.4548\n -- Epoch 30 Avg. Training Loss: 1.5159\n -- Epoch 30 Avg. Training Loss: 1.5282\n -- Epoch 30 Avg. Training Loss: 1.5427\n -- Epoch 30 Avg. Training Loss: 1.5625\n -- Epoch 30 Avg. Training Loss: 1.5504\n -- Epoch 30 Avg. Training Loss: 1.5528\n -- Epoch 30 Avg. Training Loss: 1.5680\n -- Epoch 30 Avg. Training Loss: 1.5695\n -- Epoch 30 Avg. Training Loss: 1.5768\n -- Epoch 30 Avg. Training Loss: 1.5854\n -- Epoch 30 Avg. Training Loss: 1.5912\n -- Epoch 30 Avg. Training Loss: 1.5933\n -- Epoch 30 Avg. Training Loss: 1.5917\n -- Epoch 30 Avg. Training Loss: 1.5964\n -- Epoch 30 Avg. Training Loss: 1.5993\n -- Epoch 30 Avg. Training Loss: 1.6005\n -- Epoch 30 Avg. Training Loss: 1.5980\n -- Epoch 30 Avg. Training Loss: 1.5938\n -- Epoch 30 Avg. Training Loss: 1.5933\n -- Epoch 30 Avg. Training Loss: 1.5933\n -- Epoch 30 Avg. Training Loss: 1.5947\n -- Epoch 30 Avg. Training Loss: 1.5999\n -- Epoch 31 Avg. Training Loss: 1.4356\n -- Epoch 31 Avg. Training Loss: 1.4963\n -- Epoch 31 Avg. Training Loss: 1.5090\n -- Epoch 31 Avg. Training Loss: 1.5232\n -- Epoch 31 Avg. Training Loss: 1.5428\n -- Epoch 31 Avg. Training Loss: 1.5308\n -- Epoch 31 Avg. Training Loss: 1.5333\n -- Epoch 31 Avg. Training Loss: 1.5484\n -- Epoch 31 Avg. Training Loss: 1.5497\n -- Epoch 31 Avg. Training Loss: 1.5569\n -- Epoch 31 Avg. Training Loss: 1.5654\n -- Epoch 31 Avg. Training Loss: 1.5712\n -- Epoch 31 Avg. Training Loss: 1.5733\n -- Epoch 31 Avg. Training Loss: 1.5715\n -- Epoch 31 Avg. Training Loss: 1.5761\n -- Epoch 31 Avg. Training Loss: 1.5789\n -- Epoch 31 Avg. Training Loss: 1.5801\n -- Epoch 31 Avg. Training Loss: 1.5778\n -- Epoch 31 Avg. Training Loss: 1.5735\n -- Epoch 31 Avg. Training Loss: 1.5730\n -- Epoch 31 Avg. Training Loss: 1.5729\n -- Epoch 31 Avg. Training Loss: 1.5743\n -- Epoch 31 Avg. Training Loss: 1.5795\n -- Epoch 32 Avg. Training Loss: 1.4169\n -- Epoch 32 Avg. Training Loss: 1.4772\n -- Epoch 32 Avg. Training Loss: 1.4903\n -- Epoch 32 Avg. Training Loss: 1.5043\n -- Epoch 32 Avg. Training Loss: 1.5235\n -- Epoch 32 Avg. Training Loss: 1.5116\n -- Epoch 32 Avg. Training Loss: 1.5143\n -- Epoch 32 Avg. Training Loss: 1.5293\n -- Epoch 32 Avg. Training Loss: 1.5303\n -- Epoch 32 Avg. Training Loss: 1.5374\n -- Epoch 32 Avg. Training Loss: 1.5458\n -- Epoch 32 Avg. Training Loss: 1.5517\n -- Epoch 32 Avg. Training Loss: 1.5537\n -- Epoch 32 Avg. Training Loss: 1.5518\n -- Epoch 32 Avg. Training Loss: 1.5563\n -- Epoch 32 Avg. Training Loss: 1.5591\n -- Epoch 32 Avg. Training Loss: 1.5602\n -- Epoch 32 Avg. Training Loss: 1.5580\n -- Epoch 32 Avg. Training Loss: 1.5537\n -- Epoch 32 Avg. Training Loss: 1.5531\n -- Epoch 32 Avg. Training Loss: 1.5530\n -- Epoch 32 Avg. Training Loss: 1.5543\n -- Epoch 32 Avg. Training Loss: 1.5595",
      "\n -- Epoch 33 Avg. Training Loss: 1.3986\n -- Epoch 33 Avg. Training Loss: 1.4586\n -- Epoch 33 Avg. Training Loss: 1.4720\n -- Epoch 33 Avg. Training Loss: 1.4857\n -- Epoch 33 Avg. Training Loss: 1.5048\n -- Epoch 33 Avg. Training Loss: 1.4929\n -- Epoch 33 Avg. Training Loss: 1.4958\n -- Epoch 33 Avg. Training Loss: 1.5107\n -- Epoch 33 Avg. Training Loss: 1.5113\n -- Epoch 33 Avg. Training Loss: 1.5184\n -- Epoch 33 Avg. Training Loss: 1.5268\n -- Epoch 33 Avg. Training Loss: 1.5327\n -- Epoch 33 Avg. Training Loss: 1.5347\n -- Epoch 33 Avg. Training Loss: 1.5325\n -- Epoch 33 Avg. Training Loss: 1.5369\n -- Epoch 33 Avg. Training Loss: 1.5397\n -- Epoch 33 Avg. Training Loss: 1.5408\n -- Epoch 33 Avg. Training Loss: 1.5386\n -- Epoch 33 Avg. Training Loss: 1.5344\n -- Epoch 33 Avg. Training Loss: 1.5338\n -- Epoch 33 Avg. Training Loss: 1.5336\n -- Epoch 33 Avg. Training Loss: 1.5349\n -- Epoch 33 Avg. Training Loss: 1.5400\n -- Epoch 34 Avg. Training Loss: 1.3809\n -- Epoch 34 Avg. Training Loss: 1.4404\n -- Epoch 34 Avg. Training Loss: 1.4541\n -- Epoch 34 Avg. Training Loss: 1.4676\n -- Epoch 34 Avg. Training Loss: 1.4864\n -- Epoch 34 Avg. Training Loss: 1.4746\n -- Epoch 34 Avg. Training Loss: 1.4776\n -- Epoch 34 Avg. Training Loss: 1.4924\n -- Epoch 34 Avg. Training Loss: 1.4928\n -- Epoch 34 Avg. Training Loss: 1.4999\n -- Epoch 34 Avg. Training Loss: 1.5081\n -- Epoch 34 Avg. Training Loss: 1.5141\n -- Epoch 34 Avg. Training Loss: 1.5160\n -- Epoch 34 Avg. Training Loss: 1.5137\n -- Epoch 34 Avg. Training Loss: 1.5179\n -- Epoch 34 Avg. Training Loss: 1.5207\n -- Epoch 34 Avg. Training Loss: 1.5218\n -- Epoch 34 Avg. Training Loss: 1.5197\n -- Epoch 34 Avg. Training Loss: 1.5155\n -- Epoch 34 Avg. Training Loss: 1.5148\n -- Epoch 34 Avg. Training Loss: 1.5146\n -- Epoch 34 Avg. Training Loss: 1.5158\n -- Epoch 34 Avg. Training Loss: 1.5209\n -- Epoch 35 Avg. Training Loss: 1.3635\n -- Epoch 35 Avg. Training Loss: 1.4226\n -- Epoch 35 Avg. Training Loss: 1.4367\n -- Epoch 35 Avg. Training Loss: 1.4500\n -- Epoch 35 Avg. Training Loss: 1.4685\n -- Epoch 35 Avg. Training Loss: 1.4568\n -- Epoch 35 Avg. Training Loss: 1.4599\n -- Epoch 35 Avg. Training Loss: 1.4746\n -- Epoch 35 Avg. Training Loss: 1.4747\n -- Epoch 35 Avg. Training Loss: 1.4818\n -- Epoch 35 Avg. Training Loss: 1.4899\n -- Epoch 35 Avg. Training Loss: 1.4959\n -- Epoch 35 Avg. Training Loss: 1.4978\n -- Epoch 35 Avg. Training Loss: 1.4953\n -- Epoch 35 Avg. Training Loss: 1.4994\n -- Epoch 35 Avg. Training Loss: 1.5022\n -- Epoch 35 Avg. Training Loss: 1.5032\n -- Epoch 35 Avg. Training Loss: 1.5013\n -- Epoch 35 Avg. Training Loss: 1.4970\n -- Epoch 35 Avg. Training Loss: 1.4963\n -- Epoch 35 Avg. Training Loss: 1.4960\n -- Epoch 35 Avg. Training Loss: 1.4973\n -- Epoch 35 Avg. Training Loss: 1.5023\n -- Epoch 36 Avg. Training Loss: 1.3466\n -- Epoch 36 Avg. Training Loss: 1.4053\n -- Epoch 36 Avg. Training Loss: 1.4197\n -- Epoch 36 Avg. Training Loss: 1.4327\n -- Epoch 36 Avg. Training Loss: 1.4511\n -- Epoch 36 Avg. Training Loss: 1.4393\n -- Epoch 36 Avg. Training Loss: 1.4426\n",
      " -- Epoch 36 Avg. Training Loss: 1.4572\n -- Epoch 36 Avg. Training Loss: 1.4571\n -- Epoch 36 Avg. Training Loss: 1.4640\n -- Epoch 36 Avg. Training Loss: 1.4721\n -- Epoch 36 Avg. Training Loss: 1.4781\n -- Epoch 36 Avg. Training Loss: 1.4799\n -- Epoch 36 Avg. Training Loss: 1.4773\n -- Epoch 36 Avg. Training Loss: 1.4814\n -- Epoch 36 Avg. Training Loss: 1.4841\n -- Epoch 36 Avg. Training Loss: 1.4851\n -- Epoch 36 Avg. Training Loss: 1.4832\n -- Epoch 36 Avg. Training Loss: 1.4790\n -- Epoch 36 Avg. Training Loss: 1.4782\n -- Epoch 36 Avg. Training Loss: 1.4779\n -- Epoch 36 Avg. Training Loss: 1.4791\n -- Epoch 36 Avg. Training Loss: 1.4841\n -- Epoch 37 Avg. Training Loss: 1.3302\n -- Epoch 37 Avg. Training Loss: 1.3884\n -- Epoch 37 Avg. Training Loss: 1.4031\n -- Epoch 37 Avg. Training Loss: 1.4159\n -- Epoch 37 Avg. Training Loss: 1.4340\n -- Epoch 37 Avg. Training Loss: 1.4223\n -- Epoch 37 Avg. Training Loss: 1.4258\n -- Epoch 37 Avg. Training Loss: 1.4402\n -- Epoch 37 Avg. Training Loss: 1.4398\n -- Epoch 37 Avg. Training Loss: 1.4467\n -- Epoch 37 Avg. Training Loss: 1.4547\n -- Epoch 37 Avg. Training Loss: 1.4607\n -- Epoch 37 Avg. Training Loss: 1.4625\n -- Epoch 37 Avg. Training Loss: 1.4597\n -- Epoch 37 Avg. Training Loss: 1.4637\n -- Epoch 37 Avg. Training Loss: 1.4664\n -- Epoch 37 Avg. Training Loss: 1.4674\n -- Epoch 37 Avg. Training Loss: 1.4656\n -- Epoch 37 Avg. Training Loss: 1.4614\n -- Epoch 37 Avg. Training Loss: 1.4605\n -- Epoch 37 Avg. Training Loss: 1.4601\n -- Epoch 37 Avg. Training Loss: 1.4613\n -- Epoch 37 Avg. Training Loss: 1.4663\n -- Epoch 38 Avg. Training Loss: 1.3141\n -- Epoch 38 Avg. Training Loss: 1.3719\n -- Epoch 38 Avg. Training Loss: 1.3869\n -- Epoch 38 Avg. Training Loss: 1.3994\n -- Epoch 38 Avg. Training Loss: 1.4173\n -- Epoch 38 Avg. Training Loss: 1.4057\n -- Epoch 38 Avg. Training Loss: 1.4092\n -- Epoch 38 Avg. Training Loss: 1.4236\n -- Epoch 38 Avg. Training Loss: 1.4229\n -- Epoch 38 Avg. Training Loss: 1.4298\n -- Epoch 38 Avg. Training Loss: 1.4377\n -- Epoch 38 Avg. Training Loss: 1.4437\n -- Epoch 38 Avg. Training Loss: 1.4455\n -- Epoch 38 Avg. Training Loss: 1.4425\n -- Epoch 38 Avg. Training Loss: 1.4464\n -- Epoch 38 Avg. Training Loss: 1.4491\n -- Epoch 38 Avg. Training Loss: 1.4500\n -- Epoch 38 Avg. Training Loss: 1.4483\n -- Epoch 38 Avg. Training Loss: 1.4441\n -- Epoch 38 Avg. Training Loss: 1.4433\n -- Epoch 38 Avg. Training Loss: 1.4428\n -- Epoch 38 Avg. Training Loss: 1.4440\n -- Epoch 38 Avg. Training Loss: 1.4489\n -- Epoch 39 Avg. Training Loss: 1.2984\n -- Epoch 39 Avg. Training Loss: 1.3557\n -- Epoch 39 Avg. Training Loss: 1.3710\n -- Epoch 39 Avg. Training Loss: 1.3833\n -- Epoch 39 Avg. Training Loss: 1.4010\n -- Epoch 39 Avg. Training Loss: 1.3894\n -- Epoch 39 Avg. Training Loss: 1.3931\n -- Epoch 39 Avg. Training Loss: 1.4073\n -- Epoch 39 Avg. Training Loss: 1.4064\n -- Epoch 39 Avg. Training Loss: 1.4132\n -- Epoch 39 Avg. Training Loss: 1.4210\n -- Epoch 39 Avg. Training Loss: 1.4270\n -- Epoch 39 Avg. Training Loss: 1.4288\n -- Epoch 39 Avg. Training Loss: 1.4257\n -- Epoch 39 Avg. Training Loss: 1.4295\n -- Epoch 39 Avg. Training Loss: 1.4321\n -- Epoch 39 Avg. Training Loss: 1.4331\n -- Epoch 39 Avg. Training Loss: 1.4315\n -- Epoch 39 Avg. Training Loss: 1.4273\n -- Epoch 39 Avg. Training Loss: 1.4264\n -- Epoch 39 Avg. Training Loss: 1.4258\n -- Epoch 39 Avg. Training Loss: 1.4270\n -- Epoch 39 Avg. Training Loss: 1.4319\n -- Epoch 40 Avg. Training Loss: 1.2831\n -- Epoch 40 Avg. Training Loss: 1.3400\n -- Epoch 40 Avg. Training Loss: 1.3555\n -- Epoch 40 Avg. Training Loss: 1.3676\n -- Epoch 40 Avg. Training Loss: 1.3850\n -- Epoch 40 Avg. Training Loss: 1.3735\n -- Epoch 40 Avg. Training Loss: 1.3773\n -- Epoch 40 Avg. Training Loss: 1.3914\n -- Epoch 40 Avg. Training Loss: 1.3903\n -- Epoch 40 Avg. Training Loss: 1.3970\n -- Epoch 40 Avg. Training Loss: 1.4048\n -- Epoch 40 Avg. Training Loss: 1.4108\n -- Epoch 40 Avg. Training Loss: 1.4125\n -- Epoch 40 Avg. Training Loss: 1.4093\n -- Epoch 40 Avg. Training Loss: 1.4129\n -- Epoch 40 Avg. Training Loss: 1.4156\n -- Epoch 40 Avg. Training Loss: 1.4165\n -- Epoch 40 Avg. Training Loss: 1.4150\n -- Epoch 40 Avg. Training Loss: 1.4108\n -- Epoch 40 Avg. Training Loss: 1.4098\n -- Epoch 40 Avg. Training Loss: 1.4093",
      "\n -- Epoch 40 Avg. Training Loss: 1.4104\n -- Epoch 40 Avg. Training Loss: 1.4152\n -- Epoch 41 Avg. Training Loss: 1.2681\n -- Epoch 41 Avg. Training Loss: 1.3246\n -- Epoch 41 Avg. Training Loss: 1.3404\n -- Epoch 41 Avg. Training Loss: 1.3522\n -- Epoch 41 Avg. Training Loss: 1.3694\n -- Epoch 41 Avg. Training Loss: 1.3580\n -- Epoch 41 Avg. Training Loss: 1.3619\n -- Epoch 41 Avg. Training Loss: 1.3759\n -- Epoch 41 Avg. Training Loss: 1.3745\n -- Epoch 41 Avg. Training Loss: 1.3812\n -- Epoch 41 Avg. Training Loss: 1.3888\n -- Epoch 41 Avg. Training Loss: 1.3949\n -- Epoch 41 Avg. Training Loss: 1.3965\n -- Epoch 41 Avg. Training Loss: 1.3932\n -- Epoch 41 Avg. Training Loss: 1.3967\n -- Epoch 41 Avg. Training Loss: 1.3994\n -- Epoch 41 Avg. Training Loss: 1.4002\n -- Epoch 41 Avg. Training Loss: 1.3989\n -- Epoch 41 Avg. Training Loss: 1.3947\n -- Epoch 41 Avg. Training Loss: 1.3937\n -- Epoch 41 Avg. Training Loss: 1.3930\n -- Epoch 41 Avg. Training Loss: 1.3942\n -- Epoch 41 Avg. Training Loss: 1.3990\n -- Epoch 42 Avg. Training Loss: 1.2535\n -- Epoch 42 Avg. Training Loss: 1.3095\n -- Epoch 42 Avg. Training Loss: 1.3256\n -- Epoch 42 Avg. Training Loss: 1.3372\n -- Epoch 42 Avg. Training Loss: 1.3542\n -- Epoch 42 Avg. Training Loss: 1.3428\n -- Epoch 42 Avg. Training Loss: 1.3468\n -- Epoch 42 Avg. Training Loss: 1.3607\n -- Epoch 42 Avg. Training Loss: 1.3591\n -- Epoch 42 Avg. Training Loss: 1.3657\n -- Epoch 42 Avg. Training Loss: 1.3733\n -- Epoch 42 Avg. Training Loss: 1.3793\n -- Epoch 42 Avg. Training Loss: 1.3809\n -- Epoch 42 Avg. Training Loss: 1.3774\n -- Epoch 42 Avg. Training Loss: 1.3809\n -- Epoch 42 Avg. Training Loss: 1.3835\n -- Epoch 42 Avg. Training Loss: 1.3844\n -- Epoch 42 Avg. Training Loss: 1.3831\n -- Epoch 42 Avg. Training Loss: 1.3789\n -- Epoch 42 Avg. Training Loss: 1.3779\n -- Epoch 42 Avg. Training Loss: 1.3772\n -- Epoch 42 Avg. Training Loss: 1.3783\n -- Epoch 42 Avg. Training Loss: 1.3830\n -- Epoch 43 Avg. Training Loss: 1.2393\n -- Epoch 43 Avg. Training Loss: 1.2949\n -- Epoch 43 Avg. Training Loss: 1.3112\n -- Epoch 43 Avg. Training Loss: 1.3225\n -- Epoch 43 Avg. Training Loss: 1.3393\n -- Epoch 43 Avg. Training Loss: 1.3280\n -- Epoch 43 Avg. Training Loss: 1.3321\n -- Epoch 43 Avg. Training Loss: 1.3458\n -- Epoch 43 Avg. Training Loss: 1.3440\n -- Epoch 43 Avg. Training Loss: 1.3506\n -- Epoch 43 Avg. Training Loss: 1.3581\n -- Epoch 43 Avg. Training Loss: 1.3641\n -- Epoch 43 Avg. Training Loss: 1.3657\n -- Epoch 43 Avg. Training Loss: 1.3620\n -- Epoch 43 Avg. Training Loss: 1.3654\n -- Epoch 43 Avg. Training Loss: 1.3680\n -- Epoch 43 Avg. Training Loss: 1.3688\n -- Epoch 43 Avg. Training Loss: 1.3676\n -- Epoch 43 Avg. Training Loss: 1.3635\n -- Epoch 43 Avg. Training Loss: 1.3624\n -- Epoch 43 Avg. Training Loss: 1.3617\n -- Epoch 43 Avg. Training Loss: 1.3628\n -- Epoch 43 Avg. Training Loss: 1.3675",
      "\n -- Epoch 44 Avg. Training Loss: 1.2253\n -- Epoch 44 Avg. Training Loss: 1.2805\n -- Epoch 44 Avg. Training Loss: 1.2971\n -- Epoch 44 Avg. Training Loss: 1.3081\n -- Epoch 44 Avg. Training Loss: 1.3247\n -- Epoch 44 Avg. Training Loss: 1.3135\n -- Epoch 44 Avg. Training Loss: 1.3176\n -- Epoch 44 Avg. Training Loss: 1.3313\n -- Epoch 44 Avg. Training Loss: 1.3293\n -- Epoch 44 Avg. Training Loss: 1.3358\n -- Epoch 44 Avg. Training Loss: 1.3432\n -- Epoch 44 Avg. Training Loss: 1.3492\n -- Epoch 44 Avg. Training Loss: 1.3507\n -- Epoch 44 Avg. Training Loss: 1.3470\n -- Epoch 44 Avg. Training Loss: 1.3502\n -- Epoch 44 Avg. Training Loss: 1.3528\n -- Epoch 44 Avg. Training Loss: 1.3536\n -- Epoch 44 Avg. Training Loss: 1.3525\n -- Epoch 44 Avg. Training Loss: 1.3484\n -- Epoch 44 Avg. Training Loss: 1.3473\n -- Epoch 44 Avg. Training Loss: 1.3465\n -- Epoch 44 Avg. Training Loss: 1.3476\n -- Epoch 44 Avg. Training Loss: 1.3522\n -- Epoch 45 Avg. Training Loss: 1.2117\n -- Epoch 45 Avg. Training Loss: 1.2665\n -- Epoch 45 Avg. Training Loss: 1.2833\n -- Epoch 45 Avg. Training Loss: 1.2941\n -- Epoch 45 Avg. Training Loss: 1.3105\n -- Epoch 45 Avg. Training Loss: 1.2993\n -- Epoch 45 Avg. Training Loss: 1.3035\n -- Epoch 45 Avg. Training Loss: 1.3170\n -- Epoch 45 Avg. Training Loss: 1.3148\n -- Epoch 45 Avg. Training Loss: 1.3213\n -- Epoch 45 Avg. Training Loss: 1.3286\n -- Epoch 45 Avg. Training Loss: 1.3346\n -- Epoch 45 Avg. Training Loss: 1.3361\n -- Epoch 45 Avg. Training Loss: 1.3322\n -- Epoch 45 Avg. Training Loss: 1.3354\n -- Epoch 45 Avg. Training Loss: 1.3380\n -- Epoch 45 Avg. Training Loss: 1.3387\n -- Epoch 45 Avg. Training Loss: 1.3377\n -- Epoch 45 Avg. Training Loss: 1.3337\n -- Epoch 45 Avg. Training Loss: 1.3324\n -- Epoch 45 Avg. Training Loss: 1.3316\n -- Epoch 45 Avg. Training Loss: 1.3327\n -- Epoch 45 Avg. Training Loss: 1.3373\n -- Epoch 46 Avg. Training Loss: 1.1984\n -- Epoch 46 Avg. Training Loss: 1.2527\n -- Epoch 46 Avg. Training Loss: 1.2697\n -- Epoch 46 Avg. Training Loss: 1.2803\n -- Epoch 46 Avg. Training Loss: 1.2965\n -- Epoch 46 Avg. Training Loss: 1.2854\n -- Epoch 46 Avg. Training Loss: 1.2897\n -- Epoch 46 Avg. Training Loss: 1.3031\n -- Epoch 46 Avg. Training Loss: 1.3007\n -- Epoch 46 Avg. Training Loss: 1.3071\n -- Epoch 46 Avg. Training Loss: 1.3143\n -- Epoch 46 Avg. Training Loss: 1.3203\n -- Epoch 46 Avg. Training Loss: 1.3217\n -- Epoch 46 Avg. Training Loss: 1.3178\n -- Epoch 46 Avg. Training Loss: 1.3208\n -- Epoch 46 Avg. Training Loss: 1.3234\n -- Epoch 46 Avg. Training Loss: 1.3242\n -- Epoch 46 Avg. Training Loss: 1.3233\n -- Epoch 46 Avg. Training Loss: 1.3192\n -- Epoch 46 Avg. Training Loss: 1.3179\n -- Epoch 46 Avg. Training Loss: 1.3171\n -- Epoch 46 Avg. Training Loss: 1.3181\n -- Epoch 46 Avg. Training Loss: 1.3227\n -- Epoch 47 Avg. Training Loss: 1.1854\n -- Epoch 47 Avg. Training Loss: 1.2393\n -- Epoch 47 Avg. Training Loss: 1.2565\n -- Epoch 47 Avg. Training Loss: 1.2669\n -- Epoch 47 Avg. Training Loss: 1.2828\n -- Epoch 47 Avg. Training Loss: 1.2718\n -- Epoch 47 Avg. Training Loss: 1.2762\n -- Epoch 47 Avg. Training Loss: 1.2895\n -- Epoch 47 Avg. Training Loss: 1.2869\n -- Epoch 47 Avg. Training Loss: 1.2932\n -- Epoch 47 Avg. Training Loss: 1.3003\n -- Epoch 47 Avg. Training Loss: 1.3063\n -- Epoch 47 Avg. Training Loss: 1.3077\n -- Epoch 47 Avg. Training Loss: 1.3036\n -- Epoch 47 Avg. Training Loss: 1.3066\n -- Epoch 47 Avg. Training Loss: 1.3092\n -- Epoch 47 Avg. Training Loss: 1.3099\n -- Epoch 47 Avg. Training Loss: 1.3091\n -- Epoch 47 Avg. Training Loss: 1.3051\n -- Epoch 47 Avg. Training Loss: 1.3037\n -- Epoch 47 Avg. Training Loss: 1.3028\n -- Epoch 47 Avg. Training Loss: 1.3039\n -- Epoch 47 Avg. Training Loss: 1.3084\n -- Epoch 48 Avg. Training Loss: 1.1727\n -- Epoch 48 Avg. Training Loss: 1.2262\n -- Epoch 48 Avg. Training Loss: 1.2436\n -- Epoch 48 Avg. Training Loss: 1.2537\n -- Epoch 48 Avg. Training Loss: 1.2695\n -- Epoch 48 Avg. Training Loss: 1.2585\n -- Epoch 48 Avg. Training Loss: 1.2630\n -- Epoch 48 Avg. Training Loss: 1.2761\n -- Epoch 48 Avg. Training Loss: 1.2733\n -- Epoch 48 Avg. Training Loss: 1.2796\n -- Epoch 48 Avg. Training Loss: 1.2866\n -- Epoch 48 Avg. Training Loss: 1.2926\n -- Epoch 48 Avg. Training Loss: 1.2939\n -- Epoch 48 Avg. Training Loss: 1.2898\n -- Epoch 48 Avg. Training Loss: 1.2926\n -- Epoch 48 Avg. Training Loss: 1.2952\n -- Epoch 48 Avg. Training Loss: 1.2959\n -- Epoch 48 Avg. Training Loss: 1.2952\n -- Epoch 48 Avg. Training Loss: 1.2912\n -- Epoch 48 Avg. Training Loss: 1.2898\n -- Epoch 48 Avg. Training Loss: 1.2889\n -- Epoch 48 Avg. Training Loss: 1.2899\n -- Epoch 48 Avg. Training Loss: 1.2944\n -- Epoch 49 Avg. Training Loss: 1.1603\n -- Epoch 49 Avg. Training Loss: 1.2133\n -- Epoch 49 Avg. Training Loss: 1.2310",
      "\n -- Epoch 49 Avg. Training Loss: 1.2408\n -- Epoch 49 Avg. Training Loss: 1.2564\n -- Epoch 49 Avg. Training Loss: 1.2455\n -- Epoch 49 Avg. Training Loss: 1.2500\n -- Epoch 49 Avg. Training Loss: 1.2630\n -- Epoch 49 Avg. Training Loss: 1.2600\n -- Epoch 49 Avg. Training Loss: 1.2663\n -- Epoch 49 Avg. Training Loss: 1.2733\n -- Epoch 49 Avg. Training Loss: 1.2792\n -- Epoch 49 Avg. Training Loss: 1.2805\n -- Epoch 49 Avg. Training Loss: 1.2762\n -- Epoch 49 Avg. Training Loss: 1.2790\n -- Epoch 49 Avg. Training Loss: 1.2815\n -- Epoch 49 Avg. Training Loss: 1.2822\n -- Epoch 49 Avg. Training Loss: 1.2816\n -- Epoch 49 Avg. Training Loss: 1.2776\n -- Epoch 49 Avg. Training Loss: 1.2762\n -- Epoch 49 Avg. Training Loss: 1.2752\n -- Epoch 49 Avg. Training Loss: 1.2762\n -- Epoch 49 Avg. Training Loss: 1.2807\n -- Epoch 50 Avg. Training Loss: 1.1481\n -- Epoch 50 Avg. Training Loss: 1.2008\n -- Epoch 50 Avg. Training Loss: 1.2186\n -- Epoch 50 Avg. Training Loss: 1.2282\n -- Epoch 50 Avg. Training Loss: 1.2436\n -- Epoch 50 Avg. Training Loss: 1.2327\n -- Epoch 50 Avg. Training Loss: 1.2373\n -- Epoch 50 Avg. Training Loss: 1.2502\n -- Epoch 50 Avg. Training Loss: 1.2471\n -- Epoch 50 Avg. Training Loss: 1.2532\n -- Epoch 50 Avg. Training Loss: 1.2601\n -- Epoch 50 Avg. Training Loss: 1.2661\n -- Epoch 50 Avg. Training Loss: 1.2673\n -- Epoch 50 Avg. Training Loss: 1.2630\n -- Epoch 50 Avg. Training Loss: 1.2656\n -- Epoch 50 Avg. Training Loss: 1.2681\n -- Epoch 50 Avg. Training Loss: 1.2688\n -- Epoch 50 Avg. Training Loss: 1.2683\n -- Epoch 50 Avg. Training Loss: 1.2643\n -- Epoch 50 Avg. Training Loss: 1.2629\n -- Epoch 50 Avg. Training Loss: 1.2619\n -- Epoch 50 Avg. Training Loss: 1.2628\n -- Epoch 50 Avg. Training Loss: 1.2672\n"
     ],
     "output_type": "stream"
    }
   ],
   "source": [
    "## create a session to launch the graph\n",
    "sess = tf.Session(graph=g)\n",
    "sess.run(init_op)\n",
    "for epoch in range(50):\n",
    "    training_costs = []\n",
    "    batch_generator = create_batch_generator(\n",
    "        X_train, \n",
    "        y_train,\n",
    "        batch_size=64)\n",
    "    for batch_X, batch_y in batch_generator:\n",
    "        feed = {tf_x:batch_X, tf_y:batch_y}\n",
    "        _, batch_cost = sess.run([train_op, cost], feed_dict=feed)\n",
    "        training_costs.append(batch_cost)\n",
    "        print(' -- Epoch %2d Avg. Training Loss: %.4f' % (\n",
    "            epoch+1, \n",
    "            np.mean(training_costs))\n",
    "        )"
   ],
   "metadata": {
    "collapsed": false,
    "pycharm": {
     "name": "#%%\n",
     "is_executing": false
    }
   }
  },
  {
   "cell_type": "code",
   "execution_count": 11,
   "outputs": [
    {
     "name": "stdout",
     "text": [
      "Test Accuracy: 75.00%\n"
     ],
     "output_type": "stream"
    }
   ],
   "source": [
    "feed = {tf_x : X_test}\n",
    "y_pred = sess.run(predictions['classes'],feed_dict=feed)\n",
    "print('Test Accuracy: %.2f%%' % (\n",
    "        100*np.sum(y_pred == y_test)/y_test.shape[0]))\n"
   ],
   "metadata": {
    "collapsed": false,
    "pycharm": {
     "name": "#%%\n",
     "is_executing": false
    }
   }
  },
  {
   "cell_type": "code",
   "execution_count": null,
   "outputs": [],
   "source": [
    "\n"
   ],
   "metadata": {
    "collapsed": false,
    "pycharm": {
     "name": "#%%\n"
    }
   }
  }
 ],
 "metadata": {
  "kernelspec": {
   "display_name": "Python 3",
   "language": "python",
   "name": "python3"
  },
  "language_info": {
   "codemirror_mode": {
    "name": "ipython",
    "version": 2
   },
   "file_extension": ".py",
   "mimetype": "text/x-python",
   "name": "python",
   "nbconvert_exporter": "python",
   "pygments_lexer": "ipython2",
   "version": "2.7.6"
  },
  "pycharm": {
   "stem_cell": {
    "cell_type": "raw",
    "source": [],
    "metadata": {
     "collapsed": false
    }
   }
  }
 },
 "nbformat": 4,
 "nbformat_minor": 0
}